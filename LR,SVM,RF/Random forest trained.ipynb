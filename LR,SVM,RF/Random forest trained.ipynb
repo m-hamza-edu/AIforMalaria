{
 "cells": [
  {
   "cell_type": "markdown",
   "id": "651bba1d-d182-4797-92dd-c2305ac3f937",
   "metadata": {},
   "source": [
    "Import Libraries"
   ]
  },
  {
   "cell_type": "code",
   "execution_count": 1,
   "id": "ba75a7c2-002a-4031-b1b9-5f5c795955db",
   "metadata": {},
   "outputs": [],
   "source": [
    "import os\n",
    "import numpy as np\n",
    "import cv2\n",
    "from sklearn.model_selection import train_test_split\n",
    "from sklearn.ensemble import RandomForestClassifier\n",
    "from sklearn.metrics import accuracy_score\n",
    "from sklearn.preprocessing import StandardScaler\n",
    "import matplotlib.pyplot as plt"
   ]
  },
  {
   "cell_type": "markdown",
   "id": "64f9f5b9-5497-4307-bfb1-dbc79428efea",
   "metadata": {},
   "source": [
    "Dataset path"
   ]
  },
  {
   "cell_type": "code",
   "execution_count": 2,
   "id": "7c1755f6-de94-4a48-915d-4d08e8110368",
   "metadata": {},
   "outputs": [],
   "source": [
    "infected_folder = 'D:/R001/cell_images/infected'\n",
    "uninfected_folder = 'D:/R001/cell_images/uninfected'"
   ]
  },
  {
   "cell_type": "markdown",
   "id": "27858d35-d3f3-4b76-956b-1cf491791c2d",
   "metadata": {},
   "source": [
    "Resize images & Preprocess the images"
   ]
  },
  {
   "cell_type": "code",
   "execution_count": 3,
   "id": "6f5d91fc-a426-46d5-9044-4ffe085cf13c",
   "metadata": {},
   "outputs": [],
   "source": [
    "IMG_SIZE = (64, 64)\n",
    "\n",
    "def load_images_from_folder(folder, label):\n",
    "    images = []\n",
    "    labels = []\n",
    "    for filename in os.listdir(folder):\n",
    "        img_path = os.path.join(folder, filename)\n",
    "        img = cv2.imread(img_path, cv2.IMREAD_COLOR)\n",
    "        if img is not None:\n",
    "            img = cv2.resize(img, IMG_SIZE)\n",
    "            img = img.flatten()\n",
    "            images.append(img)\n",
    "            labels.append(label)\n",
    "    return images, labels"
   ]
  },
  {
   "cell_type": "markdown",
   "id": "5a3aecc0-2c4d-4c17-804b-b352ee96c713",
   "metadata": {},
   "source": [
    "Load Dataset from separated folders"
   ]
  },
  {
   "cell_type": "code",
   "execution_count": 4,
   "id": "70791b14-05f3-43ad-aa3b-3b42294e8893",
   "metadata": {},
   "outputs": [],
   "source": [
    "infected_images, infected_labels = load_images_from_folder(infected_folder, 1)\n",
    "uninfected_images, uninfected_labels = load_images_from_folder(uninfected_folder, 0)"
   ]
  },
  {
   "cell_type": "markdown",
   "id": "ac243bd8-67a4-455e-ab00-cc8696c09991",
   "metadata": {},
   "source": [
    "Combine dataset and convert into arrays"
   ]
  },
  {
   "cell_type": "code",
   "execution_count": 5,
   "id": "8f30bdc9-f97f-4a37-8a13-daa10adfaad2",
   "metadata": {},
   "outputs": [],
   "source": [
    "#Combine dataset\n",
    "images = infected_images + uninfected_images\n",
    "labels = infected_labels + uninfected_labels\n",
    "\n",
    "# Convert to numpy arrays\n",
    "X = np.array(images)\n",
    "y = np.array(labels)"
   ]
  },
  {
   "cell_type": "markdown",
   "id": "98df843c-8799-4d90-89d4-7b6f0ba3b1b8",
   "metadata": {},
   "source": [
    "Load split data"
   ]
  },
  {
   "cell_type": "code",
   "execution_count": 6,
   "id": "26f5691e-37e1-4a49-abf1-c345095be74c",
   "metadata": {},
   "outputs": [],
   "source": [
    "import joblib\n",
    "X_train_l, X_test_l, y_train_l, y_test_l = joblib.load(\"split_data.joblib\")"
   ]
  },
  {
   "cell_type": "markdown",
   "id": "f0ce141d-db4d-4c6b-a30f-219c986810be",
   "metadata": {},
   "source": [
    "Normalize the Data"
   ]
  },
  {
   "cell_type": "code",
   "execution_count": 7,
   "id": "5cdd88cf-8924-4aae-b39b-c34e11d8ca9e",
   "metadata": {},
   "outputs": [],
   "source": [
    "scaler = StandardScaler()\n",
    "X_train = scaler.fit_transform(X_train_l)\n",
    "X_test = scaler.transform(X_test_l)"
   ]
  },
  {
   "cell_type": "markdown",
   "id": "cb498977-cdea-41e3-841d-09116be36af0",
   "metadata": {},
   "source": [
    "load the model"
   ]
  },
  {
   "cell_type": "code",
   "execution_count": 8,
   "id": "ef3c3ac5-6eb1-4ab2-b8ec-6a5d85dd1d08",
   "metadata": {},
   "outputs": [],
   "source": [
    "model = joblib.load(\"Random_F.joblib\")"
   ]
  },
  {
   "cell_type": "markdown",
   "id": "7505e067-9542-41e4-ac52-b36bc58707d5",
   "metadata": {},
   "source": [
    "Predict the Accuracy"
   ]
  },
  {
   "cell_type": "code",
   "execution_count": 9,
   "id": "3ba290bc-1cd1-4726-a364-4e260ab272bd",
   "metadata": {},
   "outputs": [
    {
     "name": "stdout",
     "output_type": "stream",
     "text": [
      "Loaded Model Accuracy: 82.08\n"
     ]
    }
   ],
   "source": [
    "y_predict = model.predict(X_test_l)\n",
    "\n",
    "acc = accuracy_score(y_test_l,y_predict)\n",
    "print(f\"Loaded Model Accuracy: {acc*100:.2f}\")"
   ]
  },
  {
   "cell_type": "markdown",
   "id": "083095f4-723e-48c4-80b6-a799abd12fba",
   "metadata": {},
   "source": [
    "Detect images through user input"
   ]
  },
  {
   "cell_type": "code",
   "execution_count": 10,
   "id": "95d066eb-dcf5-4f1a-8926-b7f60aead854",
   "metadata": {},
   "outputs": [],
   "source": [
    "# Function to predict user input image\n",
    "def predict_image(image_path):\n",
    "    img = cv2.imread(image_path, cv2.IMREAD_COLOR)\n",
    "    if img is not None:\n",
    "        img = cv2.resize(img, IMG_SIZE)\n",
    "        img = img.flatten()\n",
    "        img = scaler.transform([img])\n",
    "        prediction = model.predict(img)\n",
    "        return \"Infected\" if prediction[0] == 1 else \"Uninfected\"\n",
    "    else:\n",
    "        return \"Invalid image\"\n",
    "\n",
    "\n",
    "# User input interface\n",
    "def user_input_interface():\n",
    "    while True:\n",
    "        image_path = input(\"Enter the path to the image (or type 'exit' to quit): \")\n",
    "        if image_path.lower() == 'exit':\n",
    "            break\n",
    "        result = predict_image(image_path)\n",
    "        print(f\"The image is classified as: {result}\")"
   ]
  },
  {
   "cell_type": "code",
   "execution_count": 12,
   "id": "e33a9f89-be25-4d64-9975-8791d76921af",
   "metadata": {},
   "outputs": [
    {
     "name": "stdin",
     "output_type": "stream",
     "text": [
      "Enter the path to the image (or type 'exit' to quit):  001.png\n"
     ]
    },
    {
     "name": "stdout",
     "output_type": "stream",
     "text": [
      "The image is classified as: Infected\n"
     ]
    },
    {
     "name": "stdin",
     "output_type": "stream",
     "text": [
      "Enter the path to the image (or type 'exit' to quit):  002.png\n"
     ]
    },
    {
     "name": "stdout",
     "output_type": "stream",
     "text": [
      "The image is classified as: Uninfected\n"
     ]
    },
    {
     "name": "stdin",
     "output_type": "stream",
     "text": [
      "Enter the path to the image (or type 'exit' to quit):  1.png\n"
     ]
    },
    {
     "name": "stdout",
     "output_type": "stream",
     "text": [
      "The image is classified as: Invalid image\n"
     ]
    },
    {
     "name": "stdin",
     "output_type": "stream",
     "text": [
      "Enter the path to the image (or type 'exit' to quit):  1.jpg\n"
     ]
    },
    {
     "name": "stdout",
     "output_type": "stream",
     "text": [
      "The image is classified as: Infected\n"
     ]
    },
    {
     "name": "stdin",
     "output_type": "stream",
     "text": [
      "Enter the path to the image (or type 'exit' to quit):  2.jpg\n"
     ]
    },
    {
     "name": "stdout",
     "output_type": "stream",
     "text": [
      "The image is classified as: Infected\n"
     ]
    },
    {
     "name": "stdin",
     "output_type": "stream",
     "text": [
      "Enter the path to the image (or type 'exit' to quit):  3.png\n"
     ]
    },
    {
     "name": "stdout",
     "output_type": "stream",
     "text": [
      "The image is classified as: Infected\n"
     ]
    },
    {
     "name": "stdin",
     "output_type": "stream",
     "text": [
      "Enter the path to the image (or type 'exit' to quit):  exit\n"
     ]
    }
   ],
   "source": [
    "# Run the user input interface\n",
    "user_input_interface()"
   ]
  },
  {
   "cell_type": "code",
   "execution_count": null,
   "id": "8c4fc3df-8c53-4a21-9158-836ad7fc5257",
   "metadata": {},
   "outputs": [],
   "source": []
  }
 ],
 "metadata": {
  "kernelspec": {
   "display_name": "Python 3 (ipykernel)",
   "language": "python",
   "name": "python3"
  },
  "language_info": {
   "codemirror_mode": {
    "name": "ipython",
    "version": 3
   },
   "file_extension": ".py",
   "mimetype": "text/x-python",
   "name": "python",
   "nbconvert_exporter": "python",
   "pygments_lexer": "ipython3",
   "version": "3.12.1"
  }
 },
 "nbformat": 4,
 "nbformat_minor": 5
}
