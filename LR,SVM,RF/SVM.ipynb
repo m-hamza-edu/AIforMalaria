{
 "cells": [
  {
   "cell_type": "code",
   "execution_count": 1,
   "id": "42650499-7068-4c7c-b38f-15b955ae8279",
   "metadata": {},
   "outputs": [],
   "source": [
    "import cv2\n",
    "import os\n",
    "import numpy as np\n",
    "from skimage.feature import hog\n",
    "from skimage.color import rgb2gray\n",
    "from sklearn.model_selection import train_test_split\n",
    "from sklearn.svm import SVC\n",
    "from sklearn.metrics import accuracy_score"
   ]
  },
  {
   "cell_type": "code",
   "execution_count": 27,
   "id": "af484292-daec-481d-ba81-63106fa1e3bf",
   "metadata": {},
   "outputs": [],
   "source": [
    "def load_and_preprocess_images(image_dir, img_size=(64, 64)):\n",
    "    images = []\n",
    "    labels = []\n",
    "    for label in ['infected', 'uninfected']:\n",
    "        path = os.path.join(image_dir, label)\n",
    "        class_num = 0 if label == 'uninfected' else 1\n",
    "        for img in os.listdir(path):\n",
    "            try:\n",
    "                img_array = cv2.imread(os.path.join(path, img))\n",
    "                img_gray = cv2.cvtColor(img_array, cv2.COLOR_BGR2GRAY)\n",
    "                resized_array = cv2.resize(img_gray, img_size)\n",
    "                images.append(resized_array)\n",
    "                labels.append(class_num)\n",
    "            except Exception as e:\n",
    "                pass\n",
    "    images = np.array(images).reshape(-1, img_size[0], img_size[1])\n",
    "    images = images / 255.0\n",
    "    return images, np.array(labels)\n",
    "\n",
    "def extract_hog_features(images):\n",
    "    hog_features = []\n",
    "    for image in images:\n",
    "        feature = hog(image, orientations=9, pixels_per_cell=(8, 8), cells_per_block=(2, 2), block_norm='L2-Hys')\n",
    "        hog_features.append(feature)\n",
    "    return np.array(hog_features)\n",
    "\n",
    "image_dir = 'C:/Users/PMLS/Downloads/Compressed/cell_images'\n",
    "X, y = load_and_preprocess_images(image_dir)\n",
    "X_features = extract_hog_features(X)\n"
   ]
  },
  {
   "cell_type": "markdown",
   "id": "87333e66-e46b-4cc3-ba04-d59b280f10b9",
   "metadata": {},
   "source": [
    "Training"
   ]
  },
  {
   "cell_type": "code",
   "execution_count": 5,
   "id": "e25ef22f-1c2a-4ede-a51b-9c10b5edad6e",
   "metadata": {},
   "outputs": [
    {
     "name": "stdout",
     "output_type": "stream",
     "text": [
      "Accuracy: 0.84\n"
     ]
    }
   ],
   "source": [
    "X_train, X_test, y_train, y_test = train_test_split(X_features, y, test_size=0.2, random_state=42)\n",
    "\n",
    "svm = SVC(kernel='linear')\n",
    "svm.fit(X_train, y_train)\n",
    "\n",
    "y_pred = svm.predict(X_test)\n",
    "accuracy = accuracy_score(y_test, y_pred)\n",
    "print(f'Accuracy: {accuracy:.2f}')\n"
   ]
  },
  {
   "cell_type": "code",
   "execution_count": 3,
   "id": "68b821b1-97a9-4cfd-89f6-2d49c3668f12",
   "metadata": {},
   "outputs": [],
   "source": [
    "from sklearn.model_selection import train_test_split\n",
    "from sklearn.svm import SVC\n",
    "from sklearn.metrics import accuracy_score\n",
    "from sklearn.ensemble import RandomForestClassifier"
   ]
  },
  {
   "cell_type": "code",
   "execution_count": 24,
   "id": "c3fd2de8-d2b4-4c27-8c56-0897885b002c",
   "metadata": {},
   "outputs": [
    {
     "name": "stdout",
     "output_type": "stream",
     "text": [
      "The image is infected.\n"
     ]
    }
   ],
   "source": [
    "def detect_malaria(image_path, model, img_size=(64, 64)):\n",
    "    # Load the image\n",
    "    img = cv2.imread(image_path, cv2.IMREAD_GRAYSCALE)\n",
    "    oimg = cv2.imread(image_path)\n",
    "    \n",
    "    # Check if the image was successfully loaded\n",
    "    if img is None:\n",
    "        print(f\"Error: Unable to read image at path {image_path}\")\n",
    "        return \"Error: Unable to read image\"\n",
    "    \n",
    "    # Display the original image\n",
    "    '''cv2.imshow(\"Original Image\", img)\n",
    "    cv2.waitKey(0)  # Wait for a key press to close the image window\n",
    "    cv2.destroyAllWindows()  # Close the image window**/\n",
    "    '''\n",
    "    # Resize the image\n",
    "    try:\n",
    "        img_resized = cv2.resize(img, img_size)\n",
    "    except cv2.error as e:\n",
    "        print(f\"Error resizing image: {e}\")\n",
    "        return \"Error resizing image\"\n",
    "    \n",
    "    # Display the resized image\n",
    "    cv2.imshow(\"Resized Image\", oimg)\n",
    "    cv2.waitKey(0)  # Wait for a key press to close the image window\n",
    "    cv2.destroyAllWindows()  # Close the image window\n",
    "\n",
    "    # Normalize and reshape the image\n",
    "    img_resized = img_resized / 255.0\n",
    "    img_resized = img_resized.reshape(1, img_size[0], img_size[1])\n",
    "\n",
    "    # Extract HOG features\n",
    "    features = hog(img_resized[0], orientations=9, pixels_per_cell=(8, 8), cells_per_block=(2, 2), block_norm='L2-Hys')\n",
    "    features = features.reshape(1, -1)\n",
    "    \n",
    "    # Predict using the trained model\n",
    "    prediction = model.predict(features)\n",
    "    \n",
    "    # Return the prediction result\n",
    "    return 'infected' if prediction == 1 else 'uninfected'\n",
    "\n",
    "# Example usage\n",
    "image_path = 'C:/Users/PMLS/Downloads/Compressed/cell_images/002.png'\n",
    "result = detect_malaria(image_path, model)\n",
    "print(f'The image is {result}.')"
   ]
  },
  {
   "cell_type": "markdown",
   "id": "bdd8881a-827c-4d12-a5e1-8a06c5a0fdd5",
   "metadata": {},
   "source": [
    "Saving the model"
   ]
  },
  {
   "cell_type": "markdown",
   "id": "d12bd31a-9167-4a19-a083-5286e20f26ed",
   "metadata": {},
   "source": [
    "SVM MODEL"
   ]
  },
  {
   "cell_type": "code",
   "execution_count": 8,
   "id": "cac548b6-41b1-4c9b-9bd2-5a00b3085be8",
   "metadata": {},
   "outputs": [],
   "source": [
    "import joblib"
   ]
  },
  {
   "cell_type": "code",
   "execution_count": 13,
   "id": "eed3ec57-791d-4f3e-9540-ebdbb84a700c",
   "metadata": {},
   "outputs": [],
   "source": [
    "model = joblib.load(\"SVM_model.joblib\")"
   ]
  },
  {
   "cell_type": "code",
   "execution_count": 11,
   "id": "80a6033d-e77b-4dd5-8bc6-f47e9042f61d",
   "metadata": {},
   "outputs": [],
   "source": [
    "X_train, X_test, y_train, y_test = joblib.load(\"data_splits.joblib\")"
   ]
  },
  {
   "cell_type": "code",
   "execution_count": 14,
   "id": "e9f1ddcd-9719-4df1-b73b-8ad164bcbf2b",
   "metadata": {},
   "outputs": [],
   "source": [
    "y_pred = model.predict(X_test)"
   ]
  },
  {
   "cell_type": "code",
   "execution_count": 16,
   "id": "b27a75be-c965-4f57-9593-e0c96a625572",
   "metadata": {},
   "outputs": [
    {
     "name": "stdout",
     "output_type": "stream",
     "text": [
      "Loaded model accuracy: 0.84\n"
     ]
    }
   ],
   "source": [
    "accuracy = accuracy_score(y_test,y_pred)\n",
    "print(f'Loaded model accuracy: {accuracy:.2f}')\n"
   ]
  },
  {
   "cell_type": "code",
   "execution_count": null,
   "id": "f84d8f8c-68b3-4aaa-a6bf-106687a1bbb8",
   "metadata": {},
   "outputs": [],
   "source": []
  }
 ],
 "metadata": {
  "kernelspec": {
   "display_name": "Python 3 (ipykernel)",
   "language": "python",
   "name": "python3"
  },
  "language_info": {
   "codemirror_mode": {
    "name": "ipython",
    "version": 3
   },
   "file_extension": ".py",
   "mimetype": "text/x-python",
   "name": "python",
   "nbconvert_exporter": "python",
   "pygments_lexer": "ipython3",
   "version": "3.12.1"
  }
 },
 "nbformat": 4,
 "nbformat_minor": 5
}
